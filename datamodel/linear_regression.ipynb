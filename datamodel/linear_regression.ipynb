{
 "cells": [
  {
   "cell_type": "markdown",
   "id": "6d9fb722-a7e8-4846-83e9-df31653fbbe9",
   "metadata": {},
   "source": [
    "# Simple Example of Data Analysis - Linear Projection\n",
    "\n",
    "See, e.g. \n",
    "\n",
    "- https://en.wikipedia.org/wiki/Linear_least_squares\n",
    "- https://en.wikipedia.org/wiki/Ordinary_least_squares\n",
    "- https://en.wikipedia.org/wiki/Data_analysis\n",
    "- https://en.wikipedia.org/wiki/Projection_(linear_algebra)"
   ]
  },
  {
   "cell_type": "code",
   "execution_count": 47,
   "id": "3abcc34b-4dec-44d5-9c03-ae0c8d083c01",
   "metadata": {
    "tags": []
   },
   "outputs": [
    {
     "name": "stdout",
     "output_type": "stream",
     "text": [
      "Selected Jupyter core packages...\n",
      "IPython          : 8.11.0\n",
      "ipykernel        : 6.21.3\n",
      "ipywidgets       : 8.0.4\n",
      "jupyter_client   : 8.0.3\n",
      "jupyter_core     : 5.2.0\n",
      "jupyter_server   : 2.4.0\n",
      "jupyterlab       : 3.6.1\n",
      "nbclient         : 0.7.2\n",
      "nbconvert        : 7.2.9\n",
      "nbformat         : 5.7.3\n",
      "notebook         : 6.5.3\n",
      "qtconsole        : 5.4.0\n",
      "traitlets        : 5.9.0\n"
     ]
    },
    {
     "data": {
      "text/plain": [
       "('3.10.6', '1.24.2')"
      ]
     },
     "execution_count": 47,
     "metadata": {},
     "output_type": "execute_result"
    }
   ],
   "source": [
    "import numpy as np\n",
    "import numpy.linalg as al\n",
    "from matplotlib import pyplot as plt\n",
    "from platform import python_version\n",
    "\n",
    "!jupyter --version\n",
    "(python_version(), np.__version__)\n",
    "\n"
   ]
  },
  {
   "cell_type": "markdown",
   "id": "9a59590a-147e-4b84-a478-8b28092c5bf3",
   "metadata": {},
   "source": [
    "## Linear Algebra with real estate as an example\n",
    "This is just a \"thought experiment\" - all the data is randomly generated.\n",
    "\n",
    "Let's say that a house price is determined by just 3 *factors* (features):\n",
    "\n",
    "1. Distance $D$ in miles from the City center, for example 20\n",
    "2. House condition, $C$, for example 50 (on a scale from 0 to 100)\n",
    "3. Number of rooms, $R$, for example 3\n",
    "\n",
    "We want to find a *function* (rule) that estimates a house price $P$ based on just these three factors.\n",
    "The simplest case would be a *linear function*:\n",
    "\n",
    "\\begin{align}\n",
    "P = A + D * \\text{\"distance from the city\"} + C * \\text{\"house condition\"} + R *\\text{\"number of rooms\"}  \\label{estimate}\\tag{0}\n",
    "\\end{align}\n",
    "\n",
    "where the meaning of fixed numbers $A, D,C,R$ is as follows:\n",
    "- $A$ is a constant, measuring something that affects all houses in the same way (e.g. market trend)\n",
    "- $D$ is a location *effect* on price\n",
    "- $C$ is a house condition effect on price\n",
    "- $R$ is a number of rooms effect on proce\n",
    "\n",
    "We have just described a notion of *linear model*, cf, https://en.wikipedia.org/wiki/Linear_model\n",
    "\n",
    "Last year house sales database might contain a *table*\n",
    "\n",
    "\n",
    "| distance | condition | number of rooms | price |\n",
    "|:---------|:---------:|----------------:|:------|\n",
    "| 20       |     5     |               3 |200|\n",
    "| 10       |     8     |               4 |500|\n",
    "|..........|...........|.................|...|\n",
    "\n",
    "Can we use this table to determine the numbers $A, D,C,R$?\n",
    "Here is where *Linear Algebra* comes in. Suppose we have this data for $100$ houses.\n",
    "Hence, there are three $n$-dimensional (column) *vectors* of length (dimension) n = 100\n",
    "for each of the features and there is the fourth $n$-dimensional vector of  house prices.\n",
    "\n",
    "Plausible data for all four feature vectors is randomly generated. \n",
    "This data can be (re)generated any number of times - to view a summary see <a href='#histograms'>histograms</a>  after data generation step below.  \n",
    "\n",
    "It is important to note at this point that our real estate data for 100 houses\n",
    "is *represented* by four factor (feature) vectors in 100-dimensional *vector space*.\n",
    "\n",
    "\n"
   ]
  },
  {
   "cell_type": "code",
   "execution_count": 48,
   "id": "a3288cdf-6048-4be3-a5c4-f8401a0bb263",
   "metadata": {
    "tags": []
   },
   "outputs": [],
   "source": [
    "mean = 500\n",
    "std = 100\n",
    "n_houses = 100\n",
    "n = n_houses\n"
   ]
  },
  {
   "cell_type": "code",
   "execution_count": 49,
   "id": "205eb85a-df92-47fe-a9c5-720396b89cd0",
   "metadata": {
    "tags": []
   },
   "outputs": [],
   "source": [
    "def number_of_rooms( price ) :\n",
    "\n",
    "    if price < mean - 2 * std :\n",
    "         return np.random.randint( 1,2 )\n",
    "\n",
    "    if price < mean - 1 :\n",
    "         return np.random.randint( 2,3 )\n",
    "\n",
    "    if price > mean + 2 * std :\n",
    "         return np.random.randint( 5,6)\n",
    "\n",
    "    if price > mean + 1 * std :\n",
    "         return np.random.randint( 4,5 )\n",
    "\n",
    "    return np.random.randint( 3,4 )\n",
    "    \n",
    "n_rooms = np.vectorize( number_of_rooms ) \n",
    "\n",
    "\n",
    "def house_condition( price ) :\n",
    "    if price < mean - 2 * std :\n",
    "         return np.random.normal(loc=20, scale=2, size=1 )[0]\n",
    "\n",
    "    if price < mean -1 :\n",
    "         return np.random.normal(loc=30, scale=3, size=1 )[0]\n",
    "\n",
    "    if price > mean + 2 * std :\n",
    "         return np.random.normal(loc=80, scale=8, size=1 )[0]\n",
    "\n",
    "    if price > mean + 1 * std :\n",
    "         return np.random.normal(loc=60, scale=6, size=1 )[0]\n",
    "\n",
    "    return np.random.normal(loc=50, scale=5, size=1 )[0]\n",
    "  \n",
    "h_condition =  np.vectorize( house_condition) \n",
    "\n",
    "\n",
    "def house_distance_from_the_city_center( price ) :\n",
    "    if price < mean - 2 * std :\n",
    "        return np.random.normal(loc=25, scale=2.5, size=1 )[0]\n",
    "    \n",
    "    if price < mean - 1 * std :\n",
    "        return np.random.normal(loc=20, scale=2, size=1 )[0]\n",
    "    \n",
    "    if price > mean + 2 * std :\n",
    "        return np.random.normal(loc=5, scale=.5, size=1 )[0]\n",
    "    \n",
    "    if price > mean + 1 * std :\n",
    "        return np.random.normal(loc=10, scale=1, size=1 )[0]\n",
    "\n",
    "    return np.random.normal(loc=15, scale=1.5, size=1 )[0]\n",
    "  \n",
    "h_distance = np.vectorize( house_distance_from_the_city_center )"
   ]
  },
  {
   "cell_type": "markdown",
   "id": "56abd9c1-ee09-402f-abe5-13661654d07c",
   "metadata": {
    "tags": []
   },
   "source": [
    "### <a id=\"histograms\">  Data *Histograms* </a>"
   ]
  },
  {
   "cell_type": "code",
   "execution_count": 50,
   "id": "11af053a-e3e4-48e8-a777-7d749137e990",
   "metadata": {
    "tags": []
   },
   "outputs": [
    {
     "data": {
      "image/png": "[encoded data removed]",
      "text/plain": [
       "<Figure size 640x480 with 1 Axes>"
      ]
     },
     "metadata": {},
     "output_type": "display_data"
    }
   ],
   "source": [
    "price_in_thousands = np.random.normal(loc=mean, scale=std, size=n )\n",
    "distance = h_distance(price_in_thousands)\n",
    "condition = h_condition( price_in_thousands  )\n",
    "rooms = n_rooms( price_in_thousands )\n",
    "\n",
    "#print( np.cov(np.ones(100), rooms ))\n",
    "\n",
    "#  uncomment to see a histogram\n",
    "\n",
    "plt.hist(price_in_thousands)\n",
    "#plt.hist( rooms )\n",
    "#plt.hist( condition )\n",
    "#plt.hist( distance )\n",
    "# function to show the plot\n",
    "plt.show()\n"
   ]
  },
  {
   "cell_type": "markdown",
   "id": "247d5e30",
   "metadata": {},
   "source": [
    "### [Linear Vector Space](https://en.wikipedia.org/wiki/Vector_space)\n",
    "\n",
    "Let $ v_1, v_2, \\cdots, v_k  $ be $k$ fixed ($n$-dimensional) vectors in our $n$-dimensional (e.g. $n = 100, k = 4 $) vector  space $V$.\n",
    "For any real numbers  $  \\alpha_1, \\alpha_2, \\cdots,  \\alpha_k $ we have a *linear combination*\n",
    "\n",
    "\\begin{align}\n",
    "v = \\alpha_1 v_1 + \\alpha_2 v_2 + \\cdots + \\alpha_k v_k \\in L \\subset V \\label{eq1}\\tag{1}\n",
    "\\end{align}\n",
    "\n",
    "The formula (\\ref{eq1}) represents a linear mixture of $k$ feature vectors.\n",
    "The set $L$ of all such linear combinations is a $k$-dimensional ($k$-parameter) *subspace* of $V $.\n",
    "Suppose now that we have some other vector $v_0 \\in V $.\n",
    "It might belong to $L$, i.e. it could happen\n",
    "that $ v_0 = \\beta_1 v_1 + \\beta_2 v_2 + \\cdots v_3 + \\beta_k v_k$, for some real numbers $ \\beta_1, \\; \\beta_2 , \\; \\cdots , \\; \\beta_k $\n",
    "or it might not. In any case, we can try to solve the following problem\n",
    "> Find an *orthogonal projection* $ w_0 \\in L $ of the vector $v_0$ onto the vector space $L$\n",
    ">\n",
    "> In other words, find  $w_0 \\in L $ such that the length  ($=$ Euclidean *norm*)\n",
    "> of vector $ w_0 - v_0 $  is no greater than the length of  $ w - v_0 $ for any $ w \\in L $\n",
    ">\n",
    "> In other words, we have an *optimization* problem (cf. https://en.wikipedia.org/wiki/Mathematical_optimization):\n",
    "        find real numbers $ x_1,x_2, \\cdots, x_k $ that minimize the norm\n",
    ">\n",
    "> \\begin{equation}\n",
    "\\parallel x_1 v_1 + x_2 v_2 + \\cdots + x_k v_k - v_0  \\parallel  \\label{eq2}\\tag{2}\n",
    "\\end{equation}\n",
    ">\n",
    "> **Interpretation**:  we are looking for  $4$ *coefficients*   that can be used   to  estimate a price of every house as a mixture ([0](#mjx-eqn-estimate))\n",
    "> of house features in a \"best way possible\" (well, in some Linear Algebra sense)\n",
    ">\n",
    "\n",
    "To solve this problem, we introduce\n",
    "(collect) an  $ n \\times k $ *matrix* $ M $ in such a way that $k$ columns of $M$ are exactly our $k$\n",
    "(feature) vectors $ v_1, v_2, \\cdots, v_k$ (in that order).\n",
    "\n",
    "Scanning the matrix $M$ row by row we see that:\n",
    "\n",
    "- the first row of M is a $k$-dimensional vector ( the first coordinate ov $v_1$, the first coordinate ov $v_2, \\cdots$ )\n",
    "- the second row of M is formed by the second coordinate ov $v_1$, the second coordinate ov $v_2, \\cdots $\n",
    "- the third row of M is formed by the third coordinate ov $v_1$, the third coordinate ov $v_2, \\cdots$\n",
    "\n",
    "and so on. In case of original real estate problem ([0](#mjx-eqn-estimate)), it is useful to think that a row numeber $i$  of $M$ is\n",
    "a $k$-dimensional vector of the features of the house number $i$.\n",
    "\n",
    "In this notation we can rewrite our minimization problem ($\\ref{eq2}$) as\n",
    ">\n",
    "\\begin{align}\n",
    "\\text{find a vector} x = (x_1,x_2, \\cdots, x_k)  \\text{ that minimizes norm (distance) } objective \\; function   \\parallel Mx - v_0 \\; \\parallel  \\label{eq3}\\tag{3}\n",
    "\\end{align}\n",
    "\n",
    "The expression  (\\ref{eq3}) can be read as follows. We have $n \\times k$ matrix $M$ times $k$-vector $x$. The result will be $n$-vector that is\n",
    "a linear combination of the columns of $M$. Since $k$ coordinates of $x$ are unknown variables, $Mx$ essentially represents a generic vector in $L$\n",
    "as in (\\ref{eq1}). Hence, the objective function (\\ref{eq3}) represents the *distance* of $v_0$ from a generic vector in $L$.\n",
    "\n",
    "Denote the *dot product* (https://en.wikipedia.org/wiki/Dot_product) of vectors $a,b$ by $<a,b>$.\n",
    "By definition,   $w$ is an orthogonal projection of $v_0$ onto $L$ if and only if  the vector $ w - v_0 $ is *perependicular* to $L$, that is\n",
    "if and only if $ <w - v_0, y> \\;=\\; 0 \\;$  for any $y \\in L $.\n",
    "Since $L$ is a *linear span* of the columns $v_i, i = 1,\\; \\cdots. \\; k $ of the matrix $M$,\n",
    "this requirement leads to a system of so-called *normal* equations\n",
    "\n",
    "\\begin{align}\n",
    "    <Mx - v_0 ,\\; v_i> \\; = \\;  0 \\;  \\text{that is} \\; <Mx,\\;v_i> \\;= \\; <v_0,v_i> , \\;     i = 1,2,\\cdots, k   \\label{eq4}\\tag{4}\n",
    "\\end{align}\n",
    "\n",
    "Both sides of equatons (\\ref{eq4})  are dot products with colums of $M$, in fact\n",
    "\\begin{align}\n",
    "<Mx,v_i> = < x_1 v_1 + x_2 v_2 + \\cdots +  x_k v_k, v_i > = \\sum_{j}^k <v_i,v_j> x_j\n",
    "\\end{align}\n",
    "where  the matrix $G$ with elemnts $ <v_i,v_j>, \\; i,j = 1, \\cdots , k $ is the *Gram matrix* of the vector set $ v_1, \\cdots , v_k $ (cf. https://en.wikipedia.org/wiki/Gram_matrix) \n",
    "\n",
    "Using notation $ M^T $ for a $ k \\times n $ *transpose* of $M$, note that $ G = M^TM$ and \n",
    "rewrite $k$ equations (\\ref{eq4}) as one matrix equation,\n",
    "\n",
    "\\begin{align}\n",
    " M^TMx \\;= \\; M^Tv_0 \\label{eq5}\\tag{5}\n",
    "\\end{align}\n",
    "\n",
    "\n",
    "If the $k \\times k$ (Gram) matrix $M^TM$ is *invertible*, the equation (\\ref{eq5}) has a unique solution\n",
    "\n",
    "\\begin{align}\n",
    " x_0 \\; = \\; (M^TM)^{-1}M^Tv_0 \\; \\text{ and therefore, the projection} \\; Mx_0 \\; \\text{is equal to} \\; M(M^TM)^{-1}M^Tv_0\\;  \\label{eq6}\\tag{6}\n",
    "\\end{align}\n"
   ]
  },
  {
   "cell_type": "markdown",
   "id": "928a00e9-1b3d-4f48-9cba-41fc562b5387",
   "metadata": {},
   "source": [
    "**Remark 1.**\n",
    "We have found the  *orthogonal projection operator* onto a linear span $L$ of columns of $M$. This *linear operator* is represented\n",
    "  by the matrix $ M(M^TM)^{-1}M^T $\n",
    "\n",
    "**Remark 2.**\n",
    "The problem can be solved even when the matrix $M^TM$ is not invertible.\n",
    "This, however, could be a main theme for another story (see e.g. https://en.wikipedia.org/wiki/Moore%E2%80%93Penrose_inverse )\n",
    "\n",
    "### Back to \"reality\"\n",
    "We would like to find four numbers $ A, D, C, R $ such that the price\n",
    "of the house number $i$ can be estimated (see ([0](#mjx-eqn-eq0)),([1](#mjx-eqn-eq1))) as a *linear combination*\n",
    "\n",
    "\\begin{align}\n",
    "\\text{ A + D * distance[i] + C * condition[i] + R * rooms[i] }      \\label{eq7}\\tag{7}\n",
    "\\end{align}\n",
    "\n",
    "Recall that\n",
    "\n",
    "- D is the linear effect of a house distance from the city center on the price\n",
    "- C is the linear effect of a house condition on the price\n",
    "- R is the linear effect of a number of rooms on the price\n",
    "\n",
    "For example, if it turns out that $A = 100, D=-2, C=20, R = 200 $ then the price of the house number 10 will be estimated as"
   ]
  },
  {
   "cell_type": "code",
   "execution_count": 51,
   "id": "89930f33-4580-4526-95d4-d22376993676",
   "metadata": {
    "scrolled": true,
    "tags": []
   },
   "outputs": [
    {
     "data": {
      "text/plain": [
       "(18.3762, 25.15668, 2, 966.38124, 384.3713)"
      ]
     },
     "execution_count": 51,
     "metadata": {},
     "output_type": "execute_result"
    }
   ],
   "source": [
    "A=100; D=-2; C=20; R = 200\n",
    "(round( distance[10],5),\n",
    " round( condition[10],5 ),\n",
    " round(rooms[10],5),\n",
    " round( A + D * distance[10] + C * condition[10] + R * rooms[10], 5),\n",
    " round( price_in_thousands[10], 5 ) )"
   ]
  },
  {
   "cell_type": "markdown",
   "id": "4a3a012e-01e9-4ea0-9cd8-b88fb97684e2",
   "metadata": {},
   "source": [
    "This estimation is way off. Moreover, we need these four coefficients to \"work\" for all houses. So, with this choice of ecoefficients, what is the estimate of the price of house number 91?"
   ]
  },
  {
   "cell_type": "code",
   "execution_count": 52,
   "id": "e0773990-fa5b-49ec-a448-7c3e6e4c453b",
   "metadata": {
    "tags": []
   },
   "outputs": [
    {
     "data": {
      "text/plain": [
       "(15.41409, 30.38357, 2, 1076.84323, 449.02231)"
      ]
     },
     "execution_count": 52,
     "metadata": {},
     "output_type": "execute_result"
    }
   ],
   "source": [
    "(round( distance[91],5),\n",
    " round( condition[91],5 ),\n",
    " round(rooms[91],5),\n",
    " round( A + D * distance[91] + C * condition[91] + R * rooms[91], 5),\n",
    " round( price_in_thousands[91], 5 ) )"
   ]
  },
  {
   "cell_type": "markdown",
   "id": "b772d024",
   "metadata": {},
   "source": [
    "Not good either"
   ]
  },
  {
   "cell_type": "markdown",
   "id": "bdfdec2d-daaf-4938-8b07-162e3ca2cbaa",
   "metadata": {},
   "source": [
    "### Linear Regression\n",
    "To find an optimal estimate ([7](#mjx-eqn-eq7)) compute the four-dimensional vector $(A, D,C,R)$ by formula ([6](#mjx-eqn-eq6)).\n",
    "\n",
    "First, initialize the matrix $M$. Bear in mind, that the first column of $M$ is an $n$-dimensional vector with all its coordinates equal to $1$."
   ]
  },
  {
   "cell_type": "code",
   "execution_count": 53,
   "id": "d39a67d3-a0df-4bcb-92c3-230546d2ade0",
   "metadata": {
    "tags": []
   },
   "outputs": [],
   "source": [
    "# assign column vectors\n",
    "n_factors = 4\n",
    "M = np.zeros( ( n, n_factors) )\n",
    "M[:,0] = np.ones(n)     # v_1\n",
    "M[:,1] = distance       # v_2\n",
    "M[:,2] = condition      # v_3\n",
    "M[:,3] = rooms          # v_4\n",
    "H = price_in_thousands  # v_0\n"
   ]
  },
  {
   "cell_type": "markdown",
   "id": "8da64618",
   "metadata": {},
   "source": [
    "Invert the matrix $M^TM$ as prescribed by ([6](#mjx-eqn-eq6))"
   ]
  },
  {
   "cell_type": "code",
   "execution_count": 54,
   "id": "fbb8a829",
   "metadata": {
    "tags": []
   },
   "outputs": [
    {
     "name": "stdout",
     "output_type": "stream",
     "text": [
      "determinant = 8507001517.955172\n"
     ]
    }
   ],
   "source": [
    "d = np.dot( np.transpose(M), M )\n",
    "print( \"determinant =\", al.det(d) )\n",
    "inv_M = al.inv( d )\n",
    "#inv_M"
   ]
  },
  {
   "cell_type": "markdown",
   "id": "9208dc55",
   "metadata": {},
   "source": [
    "**Remark 3.** This is a huge number, and that is one of the reasons for the existence of better methods of finding ortogonal projections, see\n",
    "for example, https://en.wikipedia.org/wiki/Singular_value_decomposition and a section on SVD below.\n",
    "\n",
    "We are almost done. Compute $M^Tv_0$"
   ]
  },
  {
   "cell_type": "markdown",
   "id": "e9b8a275",
   "metadata": {},
   "source": []
  },
  {
   "cell_type": "code",
   "execution_count": 55,
   "id": "c0b8d1d9",
   "metadata": {
    "tags": []
   },
   "outputs": [],
   "source": [
    "B = np.dot( np.transpose(M), H )   # H == price_in_thousands"
   ]
  },
  {
   "cell_type": "markdown",
   "id": "38c81a17",
   "metadata": {},
   "source": []
  },
  {
   "cell_type": "markdown",
   "id": "b7464d0a",
   "metadata": {},
   "source": [
    "<a id=\"regresult\">  According to ([6](#mjx-eqn-eq6)), the unique solution to our linear regression nproblem is </a>"
   ]
  },
  {
   "cell_type": "code",
   "execution_count": 56,
   "id": "9fea4a94-9a36-4721-bad2-3681e87b5e71",
   "metadata": {
    "tags": []
   },
   "outputs": [],
   "source": [
    "x = np.dot( inv_M, B )"
   ]
  },
  {
   "cell_type": "code",
   "execution_count": 57,
   "id": "4d9642d2-c659-42c3-a308-4a45a38c558d",
   "metadata": {
    "tags": []
   },
   "outputs": [
    {
     "data": {
      "text/plain": [
       "array([420.25093886,  -8.99464821,   0.76598638,  68.30078951])"
      ]
     },
     "execution_count": 57,
     "metadata": {},
     "output_type": "execute_result"
    }
   ],
   "source": [
    "x   # == (A, D, C, R)"
   ]
  },
  {
   "cell_type": "markdown",
   "id": "81cc7da1",
   "metadata": {},
   "source": [
    "These four numbers can be used to obtain a price-estimate for any house. Certainly, we can now estimate prices of all the houses on our original 100-long list (cf. [7](#mjx-eqn-eq7))"
   ]
  },
  {
   "cell_type": "code",
   "execution_count": 58,
   "id": "2fd922bb-0db4-46ad-9244-c7f3dfb0880f",
   "metadata": {
    "tags": []
   },
   "outputs": [],
   "source": [
    "estimated_prices = np.dot( M,  x )\n"
   ]
  },
  {
   "cell_type": "markdown",
   "id": "a69b550a-f57d-4638-8626-35eed7218385",
   "metadata": {},
   "source": [
    "Let's compare these estimates with \"actual\" prices for the houses 10 and 91"
   ]
  },
  {
   "cell_type": "code",
   "execution_count": 59,
   "id": "1ec70b29-fef4-4aac-9cb1-d6bc98876219",
   "metadata": {
    "tags": []
   },
   "outputs": [
    {
     "data": {
      "text/plain": [
       "(18.3762, 25.15668, 2, 966.38124, 384.3713, 410.83471)"
      ]
     },
     "execution_count": 59,
     "metadata": {},
     "output_type": "execute_result"
    }
   ],
   "source": [
    "(round( distance[10],5),\n",
    " round( condition[10],5 ),\n",
    " round(rooms[10],5),\n",
    " round( A + D * distance[10] + C * condition[10] + R * rooms[10], 5),\n",
    " round( price_in_thousands[10], 5 ),\n",
    " round( estimated_prices[10], 5 )  )"
   ]
  },
  {
   "cell_type": "code",
   "execution_count": 60,
   "id": "b5a3b348-1f93-42ee-9fdb-f40dddcd9eb6",
   "metadata": {
    "tags": []
   },
   "outputs": [
    {
     "data": {
      "text/plain": [
       "(15.41409, 30.38357, 2, 1076.84323, 449.02231, 441.48159)"
      ]
     },
     "execution_count": 60,
     "metadata": {},
     "output_type": "execute_result"
    }
   ],
   "source": [
    "(round( distance[91],5),\n",
    " round( condition[91],5 ),\n",
    " round(rooms[91],5),\n",
    " round( A + D * distance[91] + C * condition[91] + R * rooms[91], 5),\n",
    " round( price_in_thousands[91], 5 ),\n",
    " round( estimated_prices[91], 5 )  )"
   ]
  },
  {
   "cell_type": "markdown",
   "id": "86e9a8ff-4784-406e-aaee-df754fe70bd7",
   "metadata": {},
   "source": [
    "This is much better estimate than the original random choice of coefficients.\n",
    "To have a feel for how far away is the linear projection from original\n",
    "price vector, compute the Euclidean distance"
   ]
  },
  {
   "cell_type": "code",
   "execution_count": 61,
   "id": "f743ecb7-0f08-4df8-94de-eea1b5ef0835",
   "metadata": {
    "tags": []
   },
   "outputs": [
    {
     "data": {
      "text/plain": [
       "379.69010198505737"
      ]
     },
     "execution_count": 61,
     "metadata": {},
     "output_type": "execute_result"
    }
   ],
   "source": [
    "al.norm( estimated_prices - price_in_thousands)"
   ]
  },
  {
   "cell_type": "markdown",
   "id": "f5d38f94-6707-43a5-af82-43b8e83e4fd0",
   "metadata": {},
   "source": [
    "Other popular measures of the approximation error are\n",
    "- average squared difference in price between estimated and original, cf. https://en.wikipedia.org/wiki/Mean_squared_error\n",
    "- average absolute value of the diffrence between estimated and original, cf.  https://en.wikipedia.org/wiki/Mean_absolute_error"
   ]
  },
  {
   "cell_type": "code",
   "execution_count": 62,
   "id": "42a4bcc9-baac-48e5-a0b4-ce179debeca8",
   "metadata": {
    "tags": []
   },
   "outputs": [
    {
     "data": {
      "text/plain": [
       "(1441.6457354542329, 30.357657445909826)"
      ]
     },
     "execution_count": 62,
     "metadata": {},
     "output_type": "execute_result"
    }
   ],
   "source": [
    "MSE = (1/n) * al.norm( estimated_prices - price_in_thousands) ** 2 \n",
    "MAE = (1/n) * al.norm( estimated_prices - price_in_thousands, 1 )\n",
    "\n",
    "(MSE,MAE)"
   ]
  },
  {
   "cell_type": "markdown",
   "id": "89cdad54",
   "metadata": {},
   "source": [
    "Now let's make a price estimate (forecast) for a house that is not in our original 100-item list"
   ]
  },
  {
   "cell_type": "code",
   "execution_count": 63,
   "id": "405a284f-0b66-4a12-bc27-b2979b98b9f7",
   "metadata": {
    "tags": []
   },
   "outputs": [
    {
     "data": {
      "text/plain": [
       "573.5061440752024"
      ]
     },
     "execution_count": 63,
     "metadata": {},
     "output_type": "execute_result"
    }
   ],
   "source": [
    "np.dot( np.array( [1, 10, 50, 3] ), x )  # D == 20, C == 50, R == 3 "
   ]
  },
  {
   "cell_type": "markdown",
   "id": "34d6ea29",
   "metadata": {},
   "source": [
    "Being linear, the model has obvious limitations...."
   ]
  },
  {
   "cell_type": "code",
   "execution_count": 64,
   "id": "909eb03c",
   "metadata": {
    "tags": []
   },
   "outputs": [
    {
     "data": {
      "text/plain": [
       "-250.29159384495733"
      ]
     },
     "execution_count": 64,
     "metadata": {},
     "output_type": "execute_result"
    }
   ],
   "source": [
    "np.dot( np.array( [1, 159, 100, 10] ), x )"
   ]
  },
  {
   "cell_type": "markdown",
   "id": "0f9dfbdf",
   "metadata": {},
   "source": [
    "### Algebra again\n",
    "\n",
    "Direct computation of the matrix $M^TM$ can result in (arrays of) very large numbers (cf. Remark 3), especially when at least one of\n",
    "the matrix dimensions is large. There is a better way to compute orthogonal projection. The important Numerical  Linear Algebra algorithm that we will\n",
    "now describe is called\n",
    "\n",
    "### [Singular Value Decomposition](https://en.wikipedia.org/wiki/Singular_value_decomposition)\n",
    "\n",
    "- A matrix $ D $ is called *diagonal* if all its elements ouside the main diagonal (all $D_{ij}$ with $i \\neq j$) are equal to zero\n",
    "- As an example, a square $n\\times n$ diagonal matrix $I_n$ such that all its diagonal elements are equal to $1$ is called *unity matrix*\n",
    "- A  square ($n \\times n$) matrix $ Q $ is called *orthogonal* if $ Q^T = Q^{-1} \\Rightarrow Q^TQ \\; = \\; 1_n\\;  = \\; QQ^T $\n",
    "- If $ n \\geq k $, an $n \\times k $-matrix $Q$ is called column-orthogonal if $ Q^TQ = 1_k $\n",
    "\n",
    "\n",
    "Let $\\; n \\geq k  $. For any $n\\times k$ matrix $A$ there are :\n",
    "- $n\\times k$ column orthogonal matrix $U$\n",
    "- $k\\times k$ orthogonal matrix $V$\n",
    "- diagonal $k \\times k $ matrix $S$ with non-negative entries\n",
    "\n",
    "such that\n",
    "\n",
    "\\begin{equation}\n",
    " A = U \\; S \\; V \\;  \\label{svd}\\tag{8}\n",
    "\\end{equation}\n",
    "\n",
    "The factorization (8) is called *Singular Value Decomposition (SVD)*, and diagonal entries of $S$ are called *singular values* of $A$\n",
    "\n",
    "Let's use SVD to compute the orthogonal projection ([6](#mjx-eqn-eq6))\n",
    "\n",
    "If the SVD of our $n \\times k $ *tall data matrix* $ M = Q_1 \\; \\Sigma_k  \\; Q_2 $ is available, we can transform ([6](#mjx-eqn-eq6)) as follows\n",
    "\n",
    "\\begin{eqnarray}\n",
    "x_0 \\; = \\; (M^TM)^{-1}M^Tv_0 \\; = \\; (Q^{T}_2 \\; \\Sigma_k \\; Q^{T}_1 \\; Q_1 \\; \\Sigma_k Q_2 )^{-1} \\; Q^{T}_2 \\; \\Sigma_k \\; Q^{T}_1 \\; v_0 \\; = \\\\ =  \n",
    " \\; (Q^{T}_2 \\; \\Sigma_k \\; I_k \\; \\Sigma_k Q_2 )^{-1} \\; Q^{T}_2 \\; \\Sigma_k Q^{T}_1 \\; v_0 \\;   = \\;   Q^{T}_2 \\; \\Sigma^{-2}_k \\; Q_2 \\;  Q^{T}_2 \\; \\Sigma_k \\; Q^{T}_1 \\; v_0 \\; = \\; Q^{T}_2 \\; \\Sigma^{-1}_k \\; Q^{T}_1\n",
    "\\end{eqnarray}\n",
    "\n",
    "and therefore\n",
    "\n",
    "\\begin{eqnarray}\n",
    "Mx_0 \\; = \\; M(M^TM)^{-1}M^Tv_0 \\; = \\;  Q_1 \\; \\Sigma_k  \\; Q_2 Q^{T}_2 \\; \\Sigma^{-1}_k \\; Q^{T}_1 \\; v_0 \\; = \\; Q_1 \\; Q^{T}_1 \\; v_0\n",
    "\\end{eqnarray}\n",
    "\n",
    "**Remark 4.**\n",
    "As we see, $Q_1  Q^{T}_1 $ is another expression for the orthogonal projector ([6](#mjx-eqn-eq6)) onto the linear span of the columns of $M$.\n",
    "\n",
    "Let's use SVD to compute the coefficients of our *linear model* ([7](#mjx-eqn-eq7))\n"
   ]
  },
  {
   "cell_type": "code",
   "execution_count": 65,
   "id": "a41c8430",
   "metadata": {
    "tags": []
   },
   "outputs": [
    {
     "data": {
      "text/plain": [
       "((100, 4),\n",
       " (4, 4),\n",
       " array([459.48645039,  71.71227481,   3.47570503,   0.80533975]))"
      ]
     },
     "execution_count": 65,
     "metadata": {},
     "output_type": "execute_result"
    }
   ],
   "source": [
    "# compute SVD of M\n",
    "k = n_factors\n",
    "U, S, V = al.svd( M, full_matrices=False)\n",
    "U.shape, V.shape, S"
   ]
  },
  {
   "cell_type": "code",
   "execution_count": 66,
   "id": "f8d76953",
   "metadata": {
    "tags": []
   },
   "outputs": [
    {
     "data": {
      "text/plain": [
       "2.626903810719796e-13"
      ]
     },
     "execution_count": 66,
     "metadata": {},
     "output_type": "execute_result"
    }
   ],
   "source": [
    "# check\n",
    "N = al.norm( M - np.dot( U * S, V ) )\n",
    "N"
   ]
  },
  {
   "cell_type": "markdown",
   "id": "f333db3a",
   "metadata": {},
   "source": [
    "Let's recompute the linear projection using SVD "
   ]
  },
  {
   "cell_type": "code",
   "execution_count": 67,
   "id": "9b4a0eaa",
   "metadata": {
    "tags": []
   },
   "outputs": [
    {
     "data": {
      "text/plain": [
       "array([420.25093886,  -8.99464821,   0.76598638,  68.30078951])"
      ]
     },
     "execution_count": 67,
     "metadata": {},
     "output_type": "execute_result"
    }
   ],
   "source": [
    "# apply formula (8)\n",
    "U_t = np.transpose( U )\n",
    "V_t = np.transpose( V )\n",
    "\n",
    "x = np.dot( V_t, (1/S) * np.dot( U_t, H ) )\n",
    "#compare that with the result obtained above\n",
    "x"
   ]
  },
  {
   "cell_type": "markdown",
   "id": "b5298dbf",
   "metadata": {},
   "source": [
    "compare this with <a href='#regresult'>linear regression result</a>) obtained above\n",
    "\n",
    "### In conclusion\n",
    "This short and rough excersise can be used as a collection of *links* to various useful topis  : \n",
    "- Linear (statistical) Models https://en.wikipedia.org/wiki/Linear_model\n",
    "- Linear Algebra https://en.wikipedia.org/wiki/Linear_algebra, in particular\n",
    "    - Vector Spaces, Matrices (https://en.wikipedia.org/wiki/Matrix_(mathematics)) and Linear Operators (https://en.wikipedia.org/wiki/Linear_map)\n",
    "    - Orthogonal Projection, Vector Norm, (Euclidean) Distance,\n",
    "        - https://en.wikipedia.org/wiki/Dot_product https://en.wikipedia.org\n",
    "        - https://en.wikipedia.org/wiki/Projection_(linear_algebra)\n",
    "        - https://en.wikipedia.org/wiki/Gram_matrix\n",
    "- SVD and other Matrix Decomposition methods https://en.wikipedia.org/wiki/Matrix_decomposition\n",
    "- Optimization https://en.wikipedia.org/wiki/Mathematical_optimization   \n",
    "- Python https://www.python.org/and and numpy https://numpy.org/\n",
    "- and, nonlinear data models https://en.wikipedia.org/wiki/Nonlinear_modelling\n",
    "\n",
    "\n",
    "\n",
    "\n",
    "\n",
    "\n",
    "\n"
   ]
  },
  {
   "cell_type": "code",
   "execution_count": null,
   "id": "aaac6e58",
   "metadata": {},
   "outputs": [],
   "source": []
  },
  {
   "cell_type": "code",
   "execution_count": null,
   "id": "9e503edb",
   "metadata": {},
   "outputs": [],
   "source": []
  },
  {
   "cell_type": "code",
   "execution_count": null,
   "id": "9bad305e",
   "metadata": {},
   "outputs": [],
   "source": []
  },
  {
   "cell_type": "code",
   "execution_count": null,
   "id": "bf07efb8",
   "metadata": {},
   "outputs": [],
   "source": []
  },
  {
   "cell_type": "code",
   "execution_count": null,
   "id": "c035a096",
   "metadata": {},
   "outputs": [],
   "source": []
  },
  {
   "cell_type": "code",
   "execution_count": 20,
   "id": "ac7c693a",
   "metadata": {},
   "outputs": [],
   "source": []
  }
 ],
 "metadata": {
  "kernelspec": {
   "display_name": "Python 3 (ipykernel)",
   "language": "python",
   "name": "python3"
  },
  "language_info": {
   "codemirror_mode": {
    "name": "ipython",
    "version": 3
   },
   "file_extension": ".py",
   "mimetype": "text/x-python",
   "name": "python",
   "nbconvert_exporter": "python",
   "pygments_lexer": "ipython3",
   "version": "3.10.6"
  }
 },
 "nbformat": 4,
 "nbformat_minor": 5
}
